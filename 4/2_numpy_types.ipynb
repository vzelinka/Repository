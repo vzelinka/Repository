{
 "cells": [
  {
   "cell_type": "markdown",
   "metadata": {},
   "source": [
    "# Структуровані масиви даних"
   ]
  },
  {
   "cell_type": "code",
   "execution_count": 1,
   "metadata": {},
   "outputs": [],
   "source": [
    "def homework(message):\n",
    "    print(\"\\n>>>>>\", message, \"\\n\")\n",
    "import numpy as np"
   ]
  },
  {
   "cell_type": "markdown",
   "metadata": {},
   "source": [
    "# Визначення однорідного масиву"
   ]
  },
  {
   "cell_type": "code",
   "execution_count": 2,
   "metadata": {},
   "outputs": [
    {
     "name": "stdout",
     "output_type": "stream",
     "text": [
      "Отриманий масив A (int8) має вигляд:\n",
      "array([[ 3,  8,  9],\n",
      "       [ 1, -7,  0],\n",
      "       [ 4, 12,  4]], dtype=int8)\n",
      "Отриманий масив B (float16) має вигляд:\n",
      "array([[ 3.4,  8.7,  9.9],\n",
      "       [ 1.1, -7.8, -0.7],\n",
      "       [ 4.1, 12.3,  4.8]], dtype=float16)\n",
      "Функція repr повертає строкове представлення об’єкта, яке допомагає бачити його внутрішню структуру та точні значення. Це особливо корисно для діагностики.\n",
      "Різниця між масивами A і B полягає в типах даних. У масиві A значення округлені до цілих чисел і зберігаються як int8, що економить пам’ять, але втрачає точність дробових чисел. Масив B має тип float16, тому зберігає дробові значення з деякою кількістю значущих цифр.\n"
     ]
    }
   ],
   "source": [
    "lst = [[3.4, 8.7, 9.9], \n",
    "       [1.1, -7.8, -0.7],\n",
    "       [4.1, 12.3, 4.8]]\n",
    "\n",
    "A = np.array(lst, dtype=np.int8)\n",
    "print(f\"Отриманий масив A (int8) має вигляд:\\n{repr(A)}\")\n",
    "\n",
    "B = np.array(lst, dtype=np.float16)\n",
    "print(f\"Отриманий масив B (float16) має вигляд:\\n{repr(B)}\")\n",
    "\n",
    "print(\"Функція repr повертає строкове представлення об’єкта, яке допомагає бачити його внутрішню структуру та точні значення. Це особливо корисно для діагностики.\")\n",
    "\n",
    "print(\"Різниця між масивами A і B полягає в типах даних. У масиві A значення округлені до цілих чисел і зберігаються як int8, що економить пам’ять, але втрачає точність дробових чисел. Масив B має тип float16, тому зберігає дробові значення з деякою кількістю значущих цифр.\")\n"
   ]
  },
  {
   "cell_type": "markdown",
   "metadata": {},
   "source": [
    "# Задаємо свій тип даних"
   ]
  },
  {
   "cell_type": "code",
   "execution_count": 3,
   "metadata": {},
   "outputs": [
    {
     "name": "stdout",
     "output_type": "stream",
     "text": [
      "Отриманий масив має вигляд:\n",
      "[('Bohdan', 4) ('Marta', 5) ('Noname', 0)]\n",
      "Доступитись до певної колонки тепер можна за її іменем: [4 5 0]\n",
      "Для виведення всіх імен, що є в даному масиві, можна використати індекс 'name':\n",
      "['Bohdan' 'Marta' 'Noname']\n"
     ]
    }
   ],
   "source": [
    "import numpy as np\n",
    "\n",
    "dt = np.dtype([('name', str, 20), ('mark', np.int8)])\n",
    "\n",
    "arr = [\n",
    "    (\"Bohdan\", 4), \n",
    "    (\"Marta\", 5),\n",
    "    (\"Noname\", 0)\n",
    "]\n",
    "\n",
    "C = np.array(arr, dtype=dt)\n",
    "print(f\"Отриманий масив має вигляд:\\n{C}\")\n",
    "\n",
    "print(f\"Доступитись до певної колонки тепер можна за її іменем: {C['mark']}\")\n",
    "\n",
    "print(\"Для виведення всіх імен, що є в даному масиві, можна використати індекс 'name':\")\n",
    "print(C['name'])\n"
   ]
  },
  {
   "cell_type": "markdown",
   "metadata": {},
   "source": [
    "# Запис та зчитування з файлу, формат CSV"
   ]
  },
  {
   "cell_type": "code",
   "execution_count": 4,
   "metadata": {},
   "outputs": [
    {
     "name": "stdout",
     "output_type": "stream",
     "text": [
      "Вихідний масив:  [('Bohdan', 4) ('Marta', 5) ('Noname', 0)]\n",
      "Прочитаний з файлу:  [('Bohdan', 4) ('Marta', 5) ('Noname', 0)]\n",
      "Записуємо у CSV файл temp.csv значення: [('Bohdan', 4) ('Marta', 5) ('Noname', 0)]\n",
      "Перевіряємо чи файл temp.csv створився: ['2_numpy_types.ipynb', '3_numpy_operations.ipynb', '4_numpy_statistic.ipynb', 'my_mass.npz', 'README.md', 'temp.csv', 'temp_with_group.csv']\n",
      "Читаємо файл за допомогою оператора with та методу readlines\n",
      "Прочитаний файл:\n",
      "['# name,mark\\n', 'Bohdan,4\\n', 'Marta,5\\n', 'Noname,0\\n']\n",
      "- як бачимо - 4 елементи є стрічками <class 'str'>.\n",
      "Зчитане значення з файла:\n",
      "[('Bohdan', 4) ('Marta', 5) ('Noname', 0)], як бачимо - 3 елементи це <class 'numpy.void'>\n",
      "- вбудований клас бібліотеки numpy.\n",
      "Доступитись до певного елемента можна наступним чином, наприклад, ім'я першого елементу: Bohdan\n",
      "Прочитаний масив з додатковим полем 'group': [('Bohdan', 4, 'KN-41') ('Marta', 5, 'KN-41') ('Noname', 0, 'KN-41')\n",
      " ('Vika', 5, 'KN-41')]\n",
      "Моє ім'я з масиву: Vika\n"
     ]
    }
   ],
   "source": [
    "import numpy as np\n",
    "import os\n",
    "\n",
    "dt = np.dtype([('name', str, 20), ('mark', np.int8)])\n",
    "arr = [\n",
    "    (\"Bohdan\", 4), \n",
    "    (\"Marta\", 5),\n",
    "    (\"Noname\", 0)\n",
    "]\n",
    "C = np.array(arr, dtype=dt)\n",
    "print(\"Вихідний масив: \", C)\n",
    "\n",
    "np.savez(\"my_mass.npz\", my_mass=C)\n",
    "D = np.load(\"my_mass.npz\")\n",
    "print(\"Прочитаний з файлу: \", D[\"my_mass\"])\n",
    "\n",
    "filename = \"temp.csv\"\n",
    "print(f\"Записуємо у CSV файл {filename} значення: {C}\")\n",
    "np.savetxt(filename, C, fmt=\"%s,%d\", header=\"name,mark\", delimiter=\",\")\n",
    "\n",
    "print(f\"Перевіряємо чи файл {filename} створився: {os.listdir()}\")\n",
    "\n",
    "print(\"Читаємо файл за допомогою оператора with та методу readlines\")\n",
    "with open(filename) as f:\n",
    "    D = f.readlines()\n",
    "\n",
    "print(f\"Прочитаний файл:\\n{D}\\n- як бачимо - {len(D)} елементи є стрічками {type(D[0])}.\")\n",
    "\n",
    "D = np.genfromtxt(filename, dtype=dt, delimiter=\",\")\n",
    "print(f\"Зчитане значення з файла:\\n{D}, як бачимо - {D.size} елементи це {type(D[0])}\\n- вбудований клас бібліотеки numpy.\")\n",
    "print(f\"Доступитись до певного елемента можна наступним чином, наприклад, ім'я першого елементу: {D[0]['name']}\")\n",
    "\n",
    "dt = np.dtype([('name', str, 20), ('mark', np.int8), ('group', str, 10)])\n",
    "C = np.array([\n",
    "    (\"Bohdan\", 4, \"KN-41\"), \n",
    "    (\"Marta\", 5, \"KN-41\"), \n",
    "    (\"Noname\", 0, \"KN-41\"),\n",
    "    (\"Vika\", 5, \"KN-41\")\n",
    "], dtype=dt)\n",
    "\n",
    "filename = \"temp_with_group.csv\"\n",
    "np.savetxt(filename, C, fmt=\"%s,%d,%s\", header=\"name,mark,group\", delimiter=\",\")\n",
    "D = np.genfromtxt(filename, dtype=dt, delimiter=\",\")\n",
    "print(\"Прочитаний масив з додатковим полем 'group':\", D)\n",
    "print(f\"Моє ім'я з масиву: {D[-1]['name']}\")\n"
   ]
  }
 ],
 "metadata": {
  "kernelspec": {
   "display_name": "Python 3",
   "language": "python",
   "name": "python3"
  },
  "language_info": {
   "codemirror_mode": {
    "name": "ipython",
    "version": 3
   },
   "file_extension": ".py",
   "mimetype": "text/x-python",
   "name": "python",
   "nbconvert_exporter": "python",
   "pygments_lexer": "ipython3",
   "version": "3.12.6"
  },
  "orig_nbformat": 4,
  "vscode": {
   "interpreter": {
    "hash": "aee8b7b246df8f9039afb4144a1f6fd8d2ca17a180786b69acc140d282b71a49"
   }
  }
 },
 "nbformat": 4,
 "nbformat_minor": 2
}
