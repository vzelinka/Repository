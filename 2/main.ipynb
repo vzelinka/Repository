{
 "cells": [
  {
   "cell_type": "markdown",
   "metadata": {},
   "source": [
    "# Код для завдання\n",
    "\n",
    "1. **Основні типи даних**:\n"
   ]
  },
  {
   "cell_type": "code",
   "execution_count": 1,
   "metadata": {},
   "outputs": [
    {
     "name": "stdout",
     "output_type": "stream",
     "text": [
      "a: змінна з текстом\n",
      "b: 1\n",
      "b1: 1.1\n",
      "c: ['a', 1, 1.25, 'Слово', 'змінна з текстом']\n",
      "d: {'a': 'Слово', 'b': 1, 'змінна з текстом': 1}\n",
      "e: ('a', 'змінна з текстом')\n",
      "f: {'змінна з текстом1', 'ss'}\n"
     ]
    }
   ],
   "source": [
    "a = \"змінна з текстом\"\n",
    "b = 1 # числова Змінна\n",
    "b1 = 1.1 \n",
    "c = [\"a\", 1, 1.25, \"Слово\", a] # List\n",
    "d = {\"a\": \"Слово\", \"b\": 1, a: b} # Dict\n",
    "e = (\"a\", a) # Tuple\n",
    "f = {\"ss\", a + str(b)} # Set\n",
    "\n",
    "print(\"a:\", a)\n",
    "print(\"b:\", b)\n",
    "print(\"b1:\", b1)\n",
    "print(\"c:\", c)\n",
    "print(\"d:\", d)\n",
    "print(\"e:\", e)\n",
    "print(\"f:\", f)"
   ]
  },
  {
   "cell_type": "markdown",
   "metadata": {},
   "source": [
    "2. **Вбудовані константи та функції**:"
   ]
  },
  {
   "cell_type": "code",
   "execution_count": 2,
   "metadata": {},
   "outputs": [
    {
     "name": "stdout",
     "output_type": "stream",
     "text": [
      "Перша константа: True\n",
      "Друга константа: None\n",
      "Абсолютне значення -12.5: 12.5\n",
      "Максимальне число з [1, 5, -3, 9]: 9\n",
      "Результат округлення 3.56: 4\n"
     ]
    }
   ],
   "source": [
    "print(\"Перша константа:\", True)\n",
    "print(f\"Друга константа: {None}\")\n",
    "\n",
    "print(\"Абсолютне значення -12.5:\", abs(-12.5))\n",
    "print(\"Максимальне число з [1, 5, -3, 9]:\", max([1, 5, -3, 9]))\n",
    "print(\"Результат округлення 3.56:\", round(3.56))\n"
   ]
  },
  {
   "cell_type": "markdown",
   "metadata": {},
   "source": [
    "\n",
    "3. **Цикли**:\n",
    " "
   ]
  },
  {
   "cell_type": "code",
   "execution_count": 3,
   "metadata": {},
   "outputs": [
    {
     "name": "stdout",
     "output_type": "stream",
     "text": [
      "На позиції 0 знаходиться буква a\n",
      "На позиції 1 знаходиться буква b\n",
      "На позиції 2 знаходиться буква c\n",
      "Лічильник зараз: 0\n",
      "Лічильник зараз: 1\n",
      "Лічильник зараз: 2\n"
     ]
    }
   ],
   "source": [
    "letters = [\"a\", \"b\", \"c\"]\n",
    "for i in range(len(letters)):\n",
    "    print(f\"На позиції {i} знаходиться буква {letters[i]}\")\n",
    "\n",
    "count = 0\n",
    "while count < 3:\n",
    "    print(\"Лічильник зараз:\", count)\n",
    "    count += 1\n"
   ]
  },
  {
   "cell_type": "markdown",
   "metadata": {},
   "source": [
    "\n",
    "4. **Розгалуження**:\n"
   ]
  },
  {
   "cell_type": "code",
   "execution_count": 4,
   "metadata": {},
   "outputs": [
    {
     "name": "stdout",
     "output_type": "stream",
     "text": [
      "Значить A=True\n",
      "B додатнє\n"
     ]
    }
   ],
   "source": [
    "A = True\n",
    "print(\"Значить A=True\" if A else \"Значить A=False\")\n",
    "\n",
    "B = 5\n",
    "if B > 0:\n",
    "    print(\"B додатнє\")\n",
    "elif B < 0:\n",
    "    print(\"B від'ємне\")\n",
    "else:\n",
    "    print(\"B дорівнює нулю\")"
   ]
  },
  {
   "cell_type": "markdown",
   "metadata": {},
   "source": [
    "\n",
    "5. **Конструкція try-except-finally**:\n",
    "  \n"
   ]
  },
  {
   "cell_type": "code",
   "execution_count": 5,
   "metadata": {},
   "outputs": [
    {
     "name": "stdout",
     "output_type": "stream",
     "text": [
      "Помилка: division by zero\n",
      "А вот воно що!\n"
     ]
    }
   ],
   "source": [
    "A = 0\n",
    "try:\n",
    "    print(\"Що буде якщо\", 10 / A, \"?\")\n",
    "except ZeroDivisionError as e:\n",
    "    print(\"Помилка:\", e)\n",
    "finally:\n",
    "    print(\"А вот воно що!\")\n"
   ]
  },
  {
   "cell_type": "markdown",
   "metadata": {},
   "source": [
    "\n",
    "6. **Контекст-менеджер with**:"
   ]
  },
  {
   "cell_type": "code",
   "execution_count": 6,
   "metadata": {},
   "outputs": [
    {
     "name": "stdout",
     "output_type": "stream",
     "text": [
      "# Р›Р°Р±РѕСЂР°С‚РѕСЂРЅР° СЂРѕР±РѕС‚Р° в„–2\n",
      "## РўРµРјР°: РћСЃРЅРѕРІРё РїСЂРѕРіСЂР°РјСѓРІР°РЅРЅСЏ РЅР° Python\n",
      "### РњРµС‚Р° СЂРѕР±РѕС‚Рё: РћР·РЅР°Р№РѕРјРёС‚РёСЃСЏ Р· РѕСЃРЅРѕРІРЅРёРјРё РєРѕРЅСЃС‚СЂСѓРєС†С–СЏРјРё С‚Р° РјРѕР¶Р»РёРІРѕСЃС‚СЏРјРё Python.\n",
      "\n",
      "---\n",
      "## Р’РёРєРѕРЅР°РЅРЅСЏ СЂРѕР±РѕС‚Рё\n",
      "* ### Р РµР·СѓР»СЊС‚Р°С‚Рё РІРёРєРѕРЅР°РЅРЅСЏ Р·Р°РІРґР°РЅСЊ:\n",
      "1. РЎС‚РІРѕСЂРёР»Р° [С„Р°Р№Р»](./main.ipynb) С–Р· Р±Р°Р·РѕРІРёРјРё РїСЂРёРєР»Р°РґР°РјРё Python-РєРѕРґС–РІ, РІ СЏРєРѕРјСѓ РєРѕСЂРёСЃС‚СѓРІР°С‡ РјР°С” Р·РјРѕРіСѓ РѕР·РЅР°Р№РѕРјРёС‚РёСЃСЏ С–Р· СѓСЃС–РјР° С†РёРјРё РїСЂРёРєР»Р°РґР°РјРё- С–Р· СЂС–Р·РЅРёРјРё С‚РёРїР°РјРё РґР°РЅРёС… С‚Р° РѕСЃРЅРѕРІРЅРёРјРё Python-РєРѕРЅСЃС‚СЂСѓРєС†С–СЏРјРё.\n",
      "1. РћР·РЅР°Р№РѕРјРёР»Р°СЃСЏ С–Р· С†РёРєР»Р°РјРё `for`, `while`, С‚Р°РєРѕР¶ - С–Р· СЃС‚СЂСѓРєС‚СѓСЂР°РјРё `if` С‚Р° `try-except`.\n",
      "1. Р’РёРєРѕСЂРёСЃС‚Р°Р»Р° РєРѕРЅС‚РµРєСЃС‚-РјРµРЅРµРґР¶РµСЂ `with`, СЏРєР° РІРёРєРѕСЂРёСЃС‚РѕРІСѓС”С‚СЊСЃСЏ РґР»СЏ СЂРѕР±РѕС‚Рё Р· С„Р°Р№Р»Р°РјРё.\n",
      "1. РЎС‚РІРѕСЂРёР»Р° Lambda-С„СѓРЅРєС†С–СЋ, СЏРє СЏ С—С— СЂРѕР·СѓРјС–СЋ, РїС–СЃР»СЏ С‡РѕРіРѕ РІРёРєРѕРЅР°Р»Р° С—С—:\n",
      "![alt text](image.png)\n",
      "\n",
      "---\n",
      "## Р’РёСЃРЅРѕРІРѕРє:\n",
      "- РћС‚Р¶Рµ, Сѓ С†С–Р№ СЂРѕР±РѕС‚С– РјРЅРѕСЋ Р±СѓР»Рѕ СЃС‚РІРѕСЂРµРЅРѕ С„Р°Р№Р» С–Р· Р±Р°Р·РѕРІРёРјРё РїСЂРёРєР»Р°РґР°РјРё Python-РєРѕРґС–РІ.\n",
      "- РўР°РєРѕР¶, Сѓ С†С–Р№ СЂРѕР±РѕС‚С– СЏ РѕР·РЅР°Р№РѕРјРёР»Р°СЃСЏ С–Р· С–Р· СЂС–Р·РЅРёРјРё С‚РёРїР°РјРё РґР°РЅРёС… С‚Р° РѕСЃРЅРѕРІРЅРёРјРё Python-РєРѕРЅСЃС‚СЂСѓРєС†С–СЏРјРё.\n",
      "- РўР°РєРѕР¶ Р±СѓР»Рѕ РґРѕСЃСЏРіРЅСѓС‚Рѕ РјРµС‚Сѓ СЂРѕР±РѕС‚Рё: РѕР·РЅР°Р№РѕРјРёС‚РёСЃСЏ Р· РѕСЃРЅРѕРІРЅРёРјРё РєРѕРЅСЃС‚СЂСѓРєС†С–СЏРјРё С‚Р° РјРѕР¶Р»РёРІРѕСЃС‚СЏРјРё Python.\n",
      "- Р’СЃС– Р·Р°РІРґР°РЅРЅСЏ РІРёРєРѕРЅР°РЅРѕ, РїСЂРѕР±Р»РµРј С‚Р° С‚СЂСѓРґРЅРѕС‰С–РІ С†Рµ РЅРµ РІРёРєР»РёРєР°Р»Рѕ. РџСЂРѕРїРѕР·РёС†С–Р№ РЅРµРјР°С”, РєСѓСЂСЃ С‡СѓРґРѕРІРёР№.\n",
      "---\n",
      "в Ђв Ђв Ђв Ђ\n"
     ]
    }
   ],
   "source": [
    "with open(\"README.md\", \"r\") as f:\n",
    "    for line in f:\n",
    "        print(line.strip())\n"
   ]
  },
  {
   "cell_type": "markdown",
   "metadata": {},
   "source": [
    "\n",
    "7. **Lambda-функція**:\n"
   ]
  },
  {
   "cell_type": "code",
   "execution_count": 7,
   "metadata": {},
   "outputs": [
    {
     "name": "stdout",
     "output_type": "stream",
     "text": [
      "Це просто функція: <function <lambda> at 0x000002232DC82E80>\n",
      "Це її виклик: Привіт від: Зелінки Вікторії!\n"
     ]
    }
   ],
   "source": [
    "# Lambda-функція для створення привітання\n",
    "greeting_lambda = lambda first, last: f'Привіт від: {first} {last}!'\n",
    "print(\"Це просто функція:\", greeting_lambda)\n",
    "print(\"Це її виклик:\", greeting_lambda('Зелінки', 'Вікторії'))\n"
   ]
  }
 ],
 "metadata": {
  "kernelspec": {
   "display_name": "Python 3",
   "language": "python",
   "name": "python3"
  },
  "language_info": {
   "codemirror_mode": {
    "name": "ipython",
    "version": 3
   },
   "file_extension": ".py",
   "mimetype": "text/x-python",
   "name": "python",
   "nbconvert_exporter": "python",
   "pygments_lexer": "ipython3",
   "version": "3.12.6"
  }
 },
 "nbformat": 4,
 "nbformat_minor": 2
}
